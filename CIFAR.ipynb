{
 "cells": [
  {
   "cell_type": "code",
   "id": "initial_id",
   "metadata": {
    "collapsed": true,
    "ExecuteTime": {
     "end_time": "2024-04-15T08:51:25.136807Z",
     "start_time": "2024-04-15T08:51:25.127075Z"
    }
   },
   "source": [
    "import numpy as np\n",
    "import pandas as pd\n",
    "from tqdm import tqdm\n",
    "import random\n",
    "\n",
    "import torch\n",
    "from torch.utils.data import DataLoader, Dataset, random_split\n",
    "import torch.nn as nn\n",
    "from torch import optim\n",
    "from torchvision import datasets, transforms\n",
    "from torchvision.transforms import ToTensor\n",
    "import torch.nn.functional as F\n",
    "import os\n",
    "\n",
    "from joblib import Parallel, delayed\n",
    "from Evolution.EvolutionaryLib import BaseChromosome, ChromosomeClassFactory\n",
    "\n",
    "device = torch.device('cuda' if torch.cuda.is_available() else 'cpu')\n",
    "device"
   ],
   "outputs": [
    {
     "data": {
      "text/plain": [
       "device(type='cuda')"
      ]
     },
     "execution_count": 11,
     "metadata": {},
     "output_type": "execute_result"
    }
   ],
   "execution_count": 11
  },
  {
   "metadata": {},
   "cell_type": "markdown",
   "source": "# Data preparation",
   "id": "e55727855176a20b"
  },
  {
   "metadata": {
    "ExecuteTime": {
     "end_time": "2024-04-15T08:51:27.490656Z",
     "start_time": "2024-04-15T08:51:27.484286Z"
    }
   },
   "cell_type": "code",
   "source": [
    "class MyDataset(Dataset):\n",
    "    def __init__(self, data):\n",
    "        self.data = data\n",
    "\n",
    "    def __len__(self):\n",
    "        return len(self.data)\n",
    "\n",
    "    def __getitem__(self, item):\n",
    "        return self.data[item][0], self.data[item][1]\n",
    "\n",
    "\n",
    "classes = set(range(10))\n",
    "train_size = 512\n",
    "test_size = 64\n",
    "train_batch_size = 16\n",
    "test_batch_size = 8\n",
    "\n",
    "CROP_SIZE = 32"
   ],
   "id": "32f2911a4fb95fc0",
   "outputs": [],
   "execution_count": 12
  },
  {
   "metadata": {
    "ExecuteTime": {
     "end_time": "2024-04-15T08:51:32.929228Z",
     "start_time": "2024-04-15T08:51:29.345551Z"
    }
   },
   "cell_type": "code",
   "source": [
    "transformer = transforms.Compose([\n",
    "    transforms.ToTensor(),\n",
    "    transforms.CenterCrop(CROP_SIZE)\n",
    "])\n",
    "\n",
    "train_data = datasets.CIFAR10(\n",
    "    root='data',\n",
    "    train=True,\n",
    "    transform=transformer,\n",
    "    download=True,\n",
    ")\n",
    "test_data = datasets.CIFAR10(\n",
    "    root='data',\n",
    "    train=False,\n",
    "    transform=transformer,\n",
    "    download=True,\n",
    ")\n",
    "\n",
    "train_indices = torch.cat([torch.where(torch.Tensor(train_data.targets) == c)[0][:train_size] for c in classes])\n",
    "test_indices = torch.cat([torch.where(torch.Tensor(test_data.targets) == c)[0][:test_size] for c in classes])\n",
    "\n",
    "train_data = torch.utils.data.Subset(train_data, train_indices)\n",
    "test_data = torch.utils.data.Subset(test_data, test_indices)\n",
    "\n",
    "train_dataset = MyDataset(train_data)\n",
    "test_dataset = MyDataset(test_data)\n",
    "\n",
    "train_loader = DataLoader(train_dataset, batch_size=train_batch_size, shuffle=True)\n",
    "test_loader = DataLoader(test_dataset, batch_size=test_batch_size, shuffle=False)"
   ],
   "id": "8a659a7c80d7edda",
   "outputs": [
    {
     "name": "stdout",
     "output_type": "stream",
     "text": [
      "Files already downloaded and verified\n",
      "Files already downloaded and verified\n"
     ]
    }
   ],
   "execution_count": 13
  },
  {
   "metadata": {
    "ExecuteTime": {
     "end_time": "2024-04-15T08:51:32.950021Z",
     "start_time": "2024-04-15T08:51:32.933467Z"
    }
   },
   "cell_type": "code",
   "source": [
    "class CNN(nn.Module):\n",
    "    def __init__(self, kernel_structure: tuple[int], classifier_structure: tuple[int], n_channels: int,\n",
    "                 out_classes: int):\n",
    "        super(CNN, self).__init__()\n",
    "        self.image_size = (CROP_SIZE, CROP_SIZE)\n",
    "        self.kernel_structure = kernel_structure\n",
    "        self.classifier_structure = classifier_structure\n",
    "        cropped_img = (self.image_size[0] - sum(kernel_structure) + len(kernel_structure),\n",
    "                       self.image_size[1] - sum(kernel_structure) + len(kernel_structure))\n",
    "        self.cropped_img = cropped_img\n",
    "        self.channels = n_channels\n",
    "\n",
    "        # Convolutional part initialisation \n",
    "        architecture = [nn.Conv2d(in_channels=3, out_channels=self.channels, kernel_size=kernel_structure[0]),\n",
    "                        nn.ReLU()]\n",
    "        for kernel_size in kernel_structure[1:]:\n",
    "            architecture.append(\n",
    "                nn.Conv2d(in_channels=self.channels, out_channels=self.channels, kernel_size=kernel_size))\n",
    "            architecture.append(nn.ReLU())\n",
    "\n",
    "        self.convolve = nn.Sequential(\n",
    "            *architecture\n",
    "        )\n",
    "\n",
    "        # CLassifier part initialisation \n",
    "        architecture = [nn.Linear(self.channels * cropped_img[0] * cropped_img[1], classifier_structure[0]), nn.ReLU()]\n",
    "        for i in range(len(classifier_structure) - 1):\n",
    "            architecture.append(nn.Linear(classifier_structure[i], classifier_structure[i + 1]))\n",
    "            architecture.append(nn.ReLU())\n",
    "\n",
    "        architecture.append(nn.Linear(classifier_structure[-1], out_classes))\n",
    "\n",
    "        self.classifier = nn.Sequential(\n",
    "            *architecture\n",
    "        )\n",
    "\n",
    "    def forward(self, x):\n",
    "        x = self.convolve(x)\n",
    "        x = self.classifier(x.view(-1, self.channels * self.cropped_img[0] * self.cropped_img[1]))\n",
    "        return F.log_softmax(x, dim=1)\n",
    "\n",
    "\n",
    "criterion = nn.CrossEntropyLoss()"
   ],
   "id": "c564387195eeeb66",
   "outputs": [],
   "execution_count": 14
  },
  {
   "metadata": {
    "ExecuteTime": {
     "end_time": "2024-04-15T08:51:34.258392Z",
     "start_time": "2024-04-15T08:51:34.248224Z"
    }
   },
   "cell_type": "code",
   "source": [
    "def train(model, device, train_loader, optimizer, epoch):\n",
    "    model.train()\n",
    "\n",
    "    for _ in range(epoch):\n",
    "        for data, target in train_loader:\n",
    "            data, target = data.to(device), target.to(device)\n",
    "            optimizer.zero_grad()\n",
    "\n",
    "            output = model(data).softmax(dim=1)\n",
    "\n",
    "            loss = criterion(output, target)\n",
    "\n",
    "            loss.backward()\n",
    "            optimizer.step()\n",
    "\n",
    "\n",
    "def test(model, device, test_loader):\n",
    "    model.eval()\n",
    "    correct = 0\n",
    "    with torch.no_grad():\n",
    "        for data, target in test_loader:\n",
    "            data, target = data.to(device), target.to(device)\n",
    "            output = model(data)\n",
    "\n",
    "            pred = output.argmax(dim=1, keepdim=True)\n",
    "            correct += pred.eq(target.view_as(pred)).sum().item()\n",
    "\n",
    "    return 100. * correct / len(test_loader.dataset)"
   ],
   "id": "d9600533e696fb4f",
   "outputs": [],
   "execution_count": 15
  },
  {
   "metadata": {
    "ExecuteTime": {
     "end_time": "2024-04-15T08:51:36.123663Z",
     "start_time": "2024-04-15T08:51:36.108785Z"
    }
   },
   "cell_type": "code",
   "source": [
    "class MyChromosome(BaseChromosome):\n",
    "    def __init__(self):\n",
    "        super().__init__()\n",
    "\n",
    "    def crossover(self, other):\n",
    "        new = MyChromosome()\n",
    "        self.copy(new)\n",
    "\n",
    "        new['kernel_structure'] = self._kernel_structure.crossover(other._kernel_structure)\n",
    "        new['classifier_structure'] = self._classifier_structure.crossover(other._classifier_structure)\n",
    "\n",
    "        new['lr'] = (self['lr'] + other['lr']) / 2\n",
    "        new['epochs'] = random.choice([self['epochs'], other['epochs']])\n",
    "        new['channels'] = random.choice([self['channels'], other['channels']])\n",
    "        new['optimizer'] = random.choice([self['optimizer'], other['optimizer']])\n",
    "\n",
    "        return new\n",
    "\n",
    "    def mutate(self, rate=0.3):\n",
    "        new = MyChromosome()\n",
    "        self.copy(new)\n",
    "\n",
    "        if random.random() < rate:\n",
    "            new.kernel_structure = new._kernel_structure.mutate()\n",
    "        else:\n",
    "            new.kernel_structure = self.kernel_structure\n",
    "\n",
    "        if random.random() < rate:\n",
    "            new.classifier_structure = new._classifier_structure.mutate()\n",
    "        else:\n",
    "            new.classifier_structure = self.classifier_structure\n",
    "\n",
    "        new.channels = new._channels.get() if random.random() < rate else self.channels\n",
    "        new.optimizer = new._optimizer.get() if random.random() < rate else self.optimizer\n",
    "        new.epochs = new._epochs.get() if random.random() < rate else self.epochs\n",
    "        new.lr = new._lr.get() if random.random() < rate else self.lr\n",
    "\n",
    "        return new\n",
    "\n",
    "\n",
    "chromosome_factory = ChromosomeClassFactory(\n",
    "    kernel_structure={'n': [2, 3, 4, 5, 6], 'range': [3, 5]},\n",
    "    classifier_structure={'n': [1, 2, 3, 4, 5, 6], 'range': list(range(25, 100))},\n",
    "    channels=list(range(1, 15)),\n",
    "    optimizer=['sgd', 'adam', 'adagrad', 'rmsprop'],\n",
    "    lr=(1e-7, 1),\n",
    "    epochs=list(range(2, 25))\n",
    ")"
   ],
   "id": "58942908c3061ff8",
   "outputs": [],
   "execution_count": 16
  },
  {
   "metadata": {
    "ExecuteTime": {
     "end_time": "2024-04-15T08:51:40.292464Z",
     "start_time": "2024-04-15T08:51:40.283636Z"
    }
   },
   "cell_type": "code",
   "source": [
    "import torch.optim as optim\n",
    "\n",
    "\n",
    "def evaluate(chromosome, show_metric=False):\n",
    "    if chromosome.get_score() is not None:\n",
    "        return chromosome.get_score()\n",
    "\n",
    "    n_iterations = 1\n",
    "    metric = 0\n",
    "\n",
    "    for _ in range(n_iterations):\n",
    "        model = CNN(chromosome.kernel_structure, chromosome.classifier_structure, chromosome.channels, len(classes)).to(\n",
    "            device)\n",
    "\n",
    "        if chromosome.optimizer == 'sgd':\n",
    "            optimizer = optim.SGD(model.parameters(), lr=chromosome.lr)\n",
    "        elif chromosome.optimizer == 'adam':\n",
    "            optimizer = optim.Adam(model.parameters(), lr=chromosome.lr)\n",
    "        elif chromosome.optimizer == 'adagrad':\n",
    "            optimizer = optim.Adagrad(model.parameters(), lr=chromosome.lr)\n",
    "        elif chromosome.optimizer == 'rmsprop':\n",
    "            optimizer = optim.RMSprop(model.parameters(), lr=chromosome.lr)\n",
    "\n",
    "        train(model, device, train_loader, optimizer, chromosome.epochs)\n",
    "        metric += test(model, device, test_loader)\n",
    "\n",
    "    metric /= n_iterations\n",
    "\n",
    "    if show_metric:\n",
    "        print(f'{metric=}')\n",
    "\n",
    "    return metric"
   ],
   "id": "af5eb0458a84b6f9",
   "outputs": [],
   "execution_count": 17
  },
  {
   "metadata": {
    "ExecuteTime": {
     "end_time": "2024-04-15T08:51:52.383957Z",
     "start_time": "2024-04-15T08:51:52.379490Z"
    }
   },
   "cell_type": "code",
   "source": [
    "# evolution hyperparameters initialisation \n",
    "POPULATION_SIZE = 9\n",
    "ITERATIONS = 7\n",
    "best = None"
   ],
   "id": "89b5e7ab9d8ce99c",
   "outputs": [],
   "execution_count": 18
  },
  {
   "metadata": {
    "ExecuteTime": {
     "end_time": "2024-04-15T08:50:29.546831Z",
     "start_time": "2024-04-15T08:50:22.713493Z"
    }
   },
   "cell_type": "code",
   "source": [
    "statistic_best = []\n",
    "statistic_mean = []\n",
    "\n",
    "statistic_n_epochs = []\n",
    "statistic_lr = []\n",
    "\n",
    "statistic_kernel_size = []\n",
    "statistic_n_kernel_layers = []\n",
    "statistic_n_channels = []\n",
    "\n",
    "statistic_n_neurons = []\n",
    "statistic_n_layers = []\n",
    "\n",
    "population = []\n",
    "for _ in range(POPULATION_SIZE):\n",
    "    c = chromosome_factory.generate(MyChromosome)\n",
    "    population.append(c)\n",
    "\n",
    "with Parallel(n_jobs=4) as parallel:\n",
    "    for iteration in tqdm(range(ITERATIONS)):\n",
    "        # scores = [evaluate(chromosome) for chromosome in population]\n",
    "        scores = parallel(delayed(evaluate)(chromosome) for chromosome in population)\n",
    "        for i, chromosome in enumerate(population):\n",
    "            chromosome.set_score(scores[i])\n",
    "\n",
    "        # selection of best instances \n",
    "        population = sorted(population, key=lambda x: x.get_score(), reverse=True)[:POPULATION_SIZE // 3]\n",
    "        # check for the best solution \n",
    "        if best is None or population[0].get_score() > best.get_score():\n",
    "            best = population[0]\n",
    "\n",
    "        statistic_best.append(best.get_score())\n",
    "        statistic_mean.append(sum(map(MyChromosome.get_score, population)) / POPULATION_SIZE)\n",
    "\n",
    "        statistic_n_epochs.append(best.epochs)\n",
    "        statistic_lr.append(best.lr)\n",
    "\n",
    "        statistic_kernel_size.append(sum(best.kernel_structure) / len(best.kernel_structure))\n",
    "        statistic_n_kernel_layers.append(len(best.kernel_structure))\n",
    "        statistic_n_channels.append(best.channels)\n",
    "\n",
    "        statistic_n_neurons.append(sum(best.classifier_structure))\n",
    "        statistic_n_layers.append(len(best.classifier_structure))\n",
    "\n",
    "        # filling the population with new genes \n",
    "        while len(population) < POPULATION_SIZE:\n",
    "            r = random.random()\n",
    "            if r < 0.33:\n",
    "                population.append(random.choice(population).crossover(random.choice(population)))\n",
    "            elif 0.33 <= r < 0.66:\n",
    "                population.append(random.choice(population).mutate())\n",
    "            else:\n",
    "                population.append(chromosome_factory.generate(MyChromosome))\n",
    "    else:\n",
    "        # scores = [evaluate(chromosome) for chromosome in population]\n",
    "        scores = parallel(delayed(evaluate)(chromosome) for chromosome in population)\n",
    "        for i, chromosome in enumerate(population):\n",
    "            chromosome.set_score(scores[i])"
   ],
   "id": "d5f0b19b0f55ec4f",
   "outputs": [
    {
     "name": "stderr",
     "output_type": "stream",
     "text": [
      "  0%|          | 0/7 [00:06<?, ?it/s]\n"
     ]
    },
    {
     "ename": "KeyboardInterrupt",
     "evalue": "",
     "output_type": "error",
     "traceback": [
      "\u001B[0;31m---------------------------------------------------------------------------\u001B[0m",
      "\u001B[0;31mKeyboardInterrupt\u001B[0m                         Traceback (most recent call last)",
      "Cell \u001B[0;32mIn[9], line 22\u001B[0m\n\u001B[1;32m     19\u001B[0m \u001B[38;5;28;01mwith\u001B[39;00m Parallel(n_jobs\u001B[38;5;241m=\u001B[39m\u001B[38;5;241m4\u001B[39m) \u001B[38;5;28;01mas\u001B[39;00m parallel:\n\u001B[1;32m     20\u001B[0m     \u001B[38;5;28;01mfor\u001B[39;00m iteration \u001B[38;5;129;01min\u001B[39;00m tqdm(\u001B[38;5;28mrange\u001B[39m(ITERATIONS)):\n\u001B[1;32m     21\u001B[0m         \u001B[38;5;66;03m# scores = [evaluate(chromosome) for chromosome in population]\u001B[39;00m\n\u001B[0;32m---> 22\u001B[0m         scores \u001B[38;5;241m=\u001B[39m \u001B[43mparallel\u001B[49m\u001B[43m(\u001B[49m\u001B[43mdelayed\u001B[49m\u001B[43m(\u001B[49m\u001B[43mevaluate\u001B[49m\u001B[43m)\u001B[49m\u001B[43m(\u001B[49m\u001B[43mchromosome\u001B[49m\u001B[43m)\u001B[49m\u001B[43m \u001B[49m\u001B[38;5;28;43;01mfor\u001B[39;49;00m\u001B[43m \u001B[49m\u001B[43mchromosome\u001B[49m\u001B[43m \u001B[49m\u001B[38;5;129;43;01min\u001B[39;49;00m\u001B[43m \u001B[49m\u001B[43mpopulation\u001B[49m\u001B[43m)\u001B[49m\n\u001B[1;32m     23\u001B[0m         \u001B[38;5;28;01mfor\u001B[39;00m i, chromosome \u001B[38;5;129;01min\u001B[39;00m \u001B[38;5;28menumerate\u001B[39m(population):\n\u001B[1;32m     24\u001B[0m             chromosome\u001B[38;5;241m.\u001B[39mset_score(scores[i])\n",
      "File \u001B[0;32m~/Documents/Innopolis/S24/NIC/project/NIC/venv/lib/python3.11/site-packages/joblib/parallel.py:2007\u001B[0m, in \u001B[0;36mParallel.__call__\u001B[0;34m(self, iterable)\u001B[0m\n\u001B[1;32m   2001\u001B[0m \u001B[38;5;66;03m# The first item from the output is blank, but it makes the interpreter\u001B[39;00m\n\u001B[1;32m   2002\u001B[0m \u001B[38;5;66;03m# progress until it enters the Try/Except block of the generator and\u001B[39;00m\n\u001B[1;32m   2003\u001B[0m \u001B[38;5;66;03m# reach the first `yield` statement. This starts the aynchronous\u001B[39;00m\n\u001B[1;32m   2004\u001B[0m \u001B[38;5;66;03m# dispatch of the tasks to the workers.\u001B[39;00m\n\u001B[1;32m   2005\u001B[0m \u001B[38;5;28mnext\u001B[39m(output)\n\u001B[0;32m-> 2007\u001B[0m \u001B[38;5;28;01mreturn\u001B[39;00m output \u001B[38;5;28;01mif\u001B[39;00m \u001B[38;5;28mself\u001B[39m\u001B[38;5;241m.\u001B[39mreturn_generator \u001B[38;5;28;01melse\u001B[39;00m \u001B[38;5;28;43mlist\u001B[39;49m\u001B[43m(\u001B[49m\u001B[43moutput\u001B[49m\u001B[43m)\u001B[49m\n",
      "File \u001B[0;32m~/Documents/Innopolis/S24/NIC/project/NIC/venv/lib/python3.11/site-packages/joblib/parallel.py:1650\u001B[0m, in \u001B[0;36mParallel._get_outputs\u001B[0;34m(self, iterator, pre_dispatch)\u001B[0m\n\u001B[1;32m   1647\u001B[0m     \u001B[38;5;28;01myield\u001B[39;00m\n\u001B[1;32m   1649\u001B[0m     \u001B[38;5;28;01mwith\u001B[39;00m \u001B[38;5;28mself\u001B[39m\u001B[38;5;241m.\u001B[39m_backend\u001B[38;5;241m.\u001B[39mretrieval_context():\n\u001B[0;32m-> 1650\u001B[0m         \u001B[38;5;28;01myield from\u001B[39;00m \u001B[38;5;28mself\u001B[39m\u001B[38;5;241m.\u001B[39m_retrieve()\n\u001B[1;32m   1652\u001B[0m \u001B[38;5;28;01mexcept\u001B[39;00m \u001B[38;5;167;01mGeneratorExit\u001B[39;00m:\n\u001B[1;32m   1653\u001B[0m     \u001B[38;5;66;03m# The generator has been garbage collected before being fully\u001B[39;00m\n\u001B[1;32m   1654\u001B[0m     \u001B[38;5;66;03m# consumed. This aborts the remaining tasks if possible and warn\u001B[39;00m\n\u001B[1;32m   1655\u001B[0m     \u001B[38;5;66;03m# the user if necessary.\u001B[39;00m\n\u001B[1;32m   1656\u001B[0m     \u001B[38;5;28mself\u001B[39m\u001B[38;5;241m.\u001B[39m_exception \u001B[38;5;241m=\u001B[39m \u001B[38;5;28;01mTrue\u001B[39;00m\n",
      "File \u001B[0;32m~/Documents/Innopolis/S24/NIC/project/NIC/venv/lib/python3.11/site-packages/joblib/parallel.py:1762\u001B[0m, in \u001B[0;36mParallel._retrieve\u001B[0;34m(self)\u001B[0m\n\u001B[1;32m   1757\u001B[0m \u001B[38;5;66;03m# If the next job is not ready for retrieval yet, we just wait for\u001B[39;00m\n\u001B[1;32m   1758\u001B[0m \u001B[38;5;66;03m# async callbacks to progress.\u001B[39;00m\n\u001B[1;32m   1759\u001B[0m \u001B[38;5;28;01mif\u001B[39;00m ((\u001B[38;5;28mlen\u001B[39m(\u001B[38;5;28mself\u001B[39m\u001B[38;5;241m.\u001B[39m_jobs) \u001B[38;5;241m==\u001B[39m \u001B[38;5;241m0\u001B[39m) \u001B[38;5;129;01mor\u001B[39;00m\n\u001B[1;32m   1760\u001B[0m     (\u001B[38;5;28mself\u001B[39m\u001B[38;5;241m.\u001B[39m_jobs[\u001B[38;5;241m0\u001B[39m]\u001B[38;5;241m.\u001B[39mget_status(\n\u001B[1;32m   1761\u001B[0m         timeout\u001B[38;5;241m=\u001B[39m\u001B[38;5;28mself\u001B[39m\u001B[38;5;241m.\u001B[39mtimeout) \u001B[38;5;241m==\u001B[39m TASK_PENDING)):\n\u001B[0;32m-> 1762\u001B[0m     time\u001B[38;5;241m.\u001B[39msleep(\u001B[38;5;241m0.01\u001B[39m)\n\u001B[1;32m   1763\u001B[0m     \u001B[38;5;28;01mcontinue\u001B[39;00m\n\u001B[1;32m   1765\u001B[0m \u001B[38;5;66;03m# We need to be careful: the job list can be filling up as\u001B[39;00m\n\u001B[1;32m   1766\u001B[0m \u001B[38;5;66;03m# we empty it and Python list are not thread-safe by\u001B[39;00m\n\u001B[1;32m   1767\u001B[0m \u001B[38;5;66;03m# default hence the use of the lock\u001B[39;00m\n",
      "\u001B[0;31mKeyboardInterrupt\u001B[0m: "
     ]
    }
   ],
   "execution_count": 9
  },
  {
   "metadata": {
    "ExecuteTime": {
     "end_time": "2024-04-12T17:18:12.562741Z",
     "start_time": "2024-04-12T17:18:12.558360Z"
    }
   },
   "cell_type": "code",
   "source": [
    "# 4:11\n",
    "print(best)"
   ],
   "id": "15354da6733188c7",
   "outputs": [
    {
     "name": "stdout",
     "output_type": "stream",
     "text": [
      "--Chromosome--\n",
      "score: 22.8125\n",
      "kernel_structure: (5, 5, 3)\n",
      "classifier_structure: (99, 80)\n",
      "channels: 2\n",
      "optimizer: sgd\n",
      "lr: 0.10474265155215089\n",
      "epochs: 10\n",
      "\n"
     ]
    }
   ],
   "execution_count": 163
  },
  {
   "metadata": {
    "ExecuteTime": {
     "end_time": "2024-04-12T17:11:01.037869Z",
     "start_time": "2024-04-12T17:11:01.029389Z"
    }
   },
   "cell_type": "code",
   "source": [
    "import pickle\n",
    "\n",
    "for i, ch in enumerate(population):\n",
    "    ps = pickle.dumps(ch)\n",
    "\n",
    "    with open(f'chromosomes/channels_{i}.txt', mode='wb') as file:\n",
    "        ps = pickle.dumps(ch)\n",
    "        file.write(ps)\n",
    "\n",
    "# for i in range(30): \n",
    "#     ch_loaded = pickle.loads(open(f'chromosomes/{i}.txt', mode='rb').read())\n",
    "#     print(ch_loaded)"
   ],
   "id": "417257ceecba801c",
   "outputs": [],
   "execution_count": 161
  },
  {
   "metadata": {
    "ExecuteTime": {
     "end_time": "2024-04-12T17:11:09.462791Z",
     "start_time": "2024-04-12T17:11:09.383901Z"
    }
   },
   "cell_type": "code",
   "source": [
    "import matplotlib.pyplot as plt\n",
    "\n",
    "print(chromosome)\n",
    "plt.title(\"Score (%)\")\n",
    "plt.xlabel(\"Epoch\")\n",
    "plt.plot(statistic_best, label='best')\n",
    "plt.plot(statistic_mean, label='mean')\n",
    "plt.legend()\n",
    "plt.show()"
   ],
   "id": "26163e4937d16b6",
   "outputs": [
    {
     "name": "stdout",
     "output_type": "stream",
     "text": [
      "--Chromosome--\n",
      "score: 10.0\n",
      "kernel_structure: (5, 3, 5)\n",
      "classifier_structure: (78,)\n",
      "channels: 12\n",
      "optimizer: rmsprop\n",
      "lr: 0.3107163785995188\n",
      "epochs: 10\n",
      "\n"
     ]
    },
    {
     "data": {
      "text/plain": [
       "<Figure size 640x480 with 1 Axes>"
      ],
      "image/png": "[encoded data removed]"
     },
     "metadata": {},
     "output_type": "display_data"
    }
   ],
   "execution_count": 162
  },
  {
   "metadata": {},
   "cell_type": "code",
   "outputs": [],
   "execution_count": null,
   "source": "",
   "id": "528831c7d546f60e"
  }
 ],
 "metadata": {
  "kernelspec": {
   "display_name": "Python 3",
   "language": "python",
   "name": "python3"
  },
  "language_info": {
   "codemirror_mode": {
    "name": "ipython",
    "version": 2
   },
   "file_extension": ".py",
   "mimetype": "text/x-python",
   "name": "python",
   "nbconvert_exporter": "python",
   "pygments_lexer": "ipython2",
   "version": "2.7.6"
  }
 },
 "nbformat": 4,
 "nbformat_minor": 5
}
