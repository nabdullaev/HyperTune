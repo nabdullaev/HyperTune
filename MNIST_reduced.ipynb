{
 "cells": [
  {
   "cell_type": "code",
   "execution_count": 2,
   "id": "b3990d86-5c72-40ae-850c-2042a640fa61",
   "metadata": {},
   "outputs": [
    {
     "data": {
      "text/plain": [
       "device(type='cuda')"
      ]
     },
     "execution_count": 2,
     "metadata": {},
     "output_type": "execute_result"
    }
   ],
   "source": [
    "import numpy as np\n",
    "import pandas as pd \n",
    "from tqdm import tqdm\n",
    "import random\n",
    "\n",
    "import torch \n",
    "from torch.utils.data import DataLoader, Dataset, random_split\n",
    "import torch.nn as nn \n",
    "from torch import optim\n",
    "from torchvision import datasets, transforms\n",
    "from torchvision.transforms import ToTensor\n",
    "import torch.nn.functional as F\n",
    "\n",
    "from joblib import Parallel, delayed\n",
    "from Evolution.EvolutionaryLib import BaseChromosome, ChromosomeClassFactory\n",
    "\n",
    "\n",
    "device = torch.device('cuda' if torch.cuda.is_available() else 'cpu')\n",
    "device"
   ]
  },
  {
   "cell_type": "code",
   "execution_count": 3,
   "id": "bc99c258-b557-48dc-98d4-01b709a7399f",
   "metadata": {},
   "outputs": [],
   "source": [
    "class MyDataset(Dataset):\n",
    "    def __init__(self, data):\n",
    "        self.data = data\n",
    "\n",
    "    def __len__(self):\n",
    "        return len(self.data)\n",
    "\n",
    "    def __getitem__(self, item):\n",
    "        return self.data[item][0], self.data[item][1]\n",
    "\n",
    "classes = {0, 1, 2, 3, 4, 5}\n",
    "train_size = 3000\n",
    "test_size = 100 \n",
    "train_batch_size = 16\n",
    "test_batch_size = 32"
   ]
  },
  {
   "cell_type": "code",
   "execution_count": 4,
   "id": "d83fe71e-30d9-435a-90a2-0ed2906452be",
   "metadata": {},
   "outputs": [],
   "source": [
    "transformer = transforms.Compose([\n",
    "    transforms.ToTensor(),\n",
    "    transforms.CenterCrop(24)\n",
    "])\n",
    "\n",
    "train_data = datasets.MNIST(\n",
    "    root = 'data',\n",
    "    train = True,\n",
    "    transform = transformer,\n",
    "    download = True,\n",
    ")\n",
    "test_data = datasets.MNIST(\n",
    "    root = 'data',\n",
    "    train = False,\n",
    "    transform = transformer\n",
    ")\n",
    "\n",
    "train_indices = torch.cat([torch.where(train_data.targets == c)[0][:train_size] for c in classes])\n",
    "test_indices = torch.cat([torch.where(test_data.targets == c)[0][:test_size] for c in classes])\n",
    "\n",
    "train_data = torch.utils.data.Subset(train_data, train_indices)\n",
    "test_data = torch.utils.data.Subset(test_data, test_indices)\n",
    "\n",
    "train_dataset = MyDataset(train_data)\n",
    "test_dataset = MyDataset(test_data)\n",
    "\n",
    "train_loader = DataLoader(train_dataset, batch_size=train_batch_size, shuffle=True)\n",
    "test_loader = DataLoader(test_dataset, batch_size=test_batch_size, shuffle=False)"
   ]
  },
  {
   "cell_type": "code",
   "execution_count": 5,
   "id": "547b81c7-1d1e-4f04-9f12-e356727a31ba",
   "metadata": {},
   "outputs": [],
   "source": [
    "class CNN(nn.Module): \n",
    "    def __init__(self, kernel_structure: tuple[int], classifier_structure: tuple[int], out_classes: int): \n",
    "        super(CNN, self).__init__()\n",
    "        self.image_size = (24, 24)\n",
    "        self.kernel_structure = kernel_structure\n",
    "        self.classifier_structure = classifier_structure\n",
    "        cropped_img = (self.image_size[0] - sum(kernel_structure) + len(kernel_structure), \n",
    "                       self.image_size[1]  - sum(kernel_structure) + len(kernel_structure))\n",
    "        self.cropped_img = cropped_img\n",
    "        self.channels = 3\n",
    "\n",
    "        # Convolutional part initialisation \n",
    "        architecture = [nn.Conv2d(in_channels=1, out_channels=self.channels, kernel_size=kernel_structure[0]), nn.ReLU()]\n",
    "        for kernel_size in kernel_structure[1:]: \n",
    "            architecture.append(nn.Conv2d(in_channels=self.channels, out_channels=self.channels, kernel_size=kernel_size))\n",
    "            architecture.append(nn.ReLU())\n",
    "\n",
    "        self.convolve = nn.Sequential(\n",
    "            *architecture\n",
    "        )\n",
    "\n",
    "        # CLassifier part initialisation \n",
    "        architecture = [nn.Linear(self.channels * cropped_img[0] * cropped_img[1], classifier_structure[0]), nn.ReLU()]\n",
    "        for i in range(len(classifier_structure) - 1): \n",
    "            architecture.append(nn.Linear(classifier_structure[i], classifier_structure[i+1]))    \n",
    "            architecture.append(nn.ReLU())\n",
    "\n",
    "        architecture.append(nn.Linear(classifier_structure[-1], out_classes))\n",
    "\n",
    "        self.classifier = nn.Sequential(\n",
    "            *architecture\n",
    "        )\n",
    "\n",
    "    def forward(self, x):\n",
    "        x = self.convolve(x)\n",
    "        x = self.classifier(x.view(-1, self.channels * self.cropped_img[0] * self.cropped_img[1]))\n",
    "        return F.log_softmax(x, dim=1)\n",
    "criterion = nn.CrossEntropyLoss()"
   ]
  },
  {
   "cell_type": "code",
   "execution_count": 6,
   "id": "dd4d2dcc-a904-4e7c-ba0e-1d3d11175737",
   "metadata": {},
   "outputs": [],
   "source": [
    "def train(model, device, train_loader, optimizer, epoch):\n",
    "    model.train()\n",
    "\n",
    "    for _ in range(epoch): \n",
    "        for data, target in train_loader:\n",
    "            data, target = data.to(device), target.to(device)\n",
    "            optimizer.zero_grad()\n",
    "    \n",
    "            output = model(data).softmax(dim=1)\n",
    "    \n",
    "            loss = criterion(output, target)\n",
    "            \n",
    "            loss.backward()\n",
    "            optimizer.step()\n",
    "\n",
    "def test(model, device, test_loader):\n",
    "    model.eval()\n",
    "    correct = 0\n",
    "    with torch.no_grad():\n",
    "        for data, target in test_loader:\n",
    "            data, target = data.to(device), target.to(device)\n",
    "            output = model(data)\n",
    "            \n",
    "            pred = output.argmax(dim=1, keepdim=True)\n",
    "            correct += pred.eq(target.view_as(pred)).sum().item()\n",
    "\n",
    "    return 100. * correct / len(test_loader.dataset) "
   ]
  },
  {
   "cell_type": "code",
   "execution_count": 7,
   "id": "8979fbd5-15f8-46c5-be23-92f7406ecb7d",
   "metadata": {},
   "outputs": [],
   "source": [
    "class MyChromosome(BaseChromosome):\n",
    "    def __init__(self):\n",
    "        super().__init__()\n",
    "\n",
    "    def crossover(self, other):\n",
    "        new = MyChromosome()\n",
    "        self.copy(new)\n",
    "\n",
    "        new['kernel_structure'] = self._kernel_structure.crossover(other._kernel_structure)\n",
    "        new['classifier_structure'] = self._classifier_structure.crossover(other._classifier_structure)\n",
    "\n",
    "        new['lr'] = (self['lr'] + other['lr']) / 2\n",
    "        new['epochs'] = random.choice([self['epochs'], other['epochs']])\n",
    "\n",
    "        return new\n",
    "\n",
    "    def mutate(self, rate=0.3):\n",
    "        new = MyChromosome()\n",
    "        self.copy(new)\n",
    "\n",
    "        if random.random() < rate:\n",
    "            new.kernel_structure = new._kernel_structure.mutate()\n",
    "        else:\n",
    "            new.kernel_structure = self.kernel_structure\n",
    "\n",
    "        if random.random() < rate:\n",
    "            new.classifier_structure = new._classifier_structure.mutate()\n",
    "        else:\n",
    "            new.classifier_structure = self.classifier_structure\n",
    "        \n",
    "\n",
    "        new.epochs = new._epochs.get() if random.random() < rate else self.epochs\n",
    "        new.lr = new._lr.get() if random.random() < rate else self.lr\n",
    "        \n",
    "        return new\n",
    "\n",
    "chromosome_factory = ChromosomeClassFactory(\n",
    "        kernel_structure={'n':[2, 3, 4], 'range': [3, 5]}, \n",
    "        classifier_structure={'n': [1, 2, 3], 'range': list(range(20, 80))}, \n",
    "        lr=(1e-7, 1), \n",
    "        epochs=list(range(2, 10))\n",
    ")"
   ]
  },
  {
   "cell_type": "code",
   "execution_count": 8,
   "id": "41647163-bcec-4bc3-82e4-ee5c6aefd843",
   "metadata": {},
   "outputs": [],
   "source": [
    "import torch.optim as optim\n",
    "from math import log\n",
    "\n",
    "def evaluate(chromosome, show_metric=False): \n",
    "    n_iterations = 2\n",
    "    metric = 0\n",
    "\n",
    "    for _ in range(n_iterations): \n",
    "        model = CNN(chromosome.kernel_structure, chromosome.classifier_structure, len(classes)).to(device)\n",
    "        optimizer = optim.Adam(model.parameters(), lr=chromosome.lr)\n",
    "        \n",
    "        train(model, device, train_loader, optimizer, chromosome.epochs)\n",
    "        metric += test(model, device, test_loader)\n",
    "        \n",
    "    metric /= n_iterations\n",
    "    \n",
    "    if show_metric: \n",
    "        print(f'{metric=}')\n",
    "        \n",
    "    return metric"
   ]
  },
  {
   "cell_type": "code",
   "execution_count": 9,
   "id": "4f1c0597-2bf6-414a-86c0-6f8b06254224",
   "metadata": {},
   "outputs": [],
   "source": [
    "# evolution hyperparameters initialisation \n",
    "POPULATION_SIZE = 30\n",
    "ITERATIONS = 40\n",
    "best = None"
   ]
  },
  {
   "cell_type": "code",
   "execution_count": 12,
   "id": "b7b3da28-64ff-4a0f-97eb-f1c91472afee",
   "metadata": {},
   "outputs": [],
   "source": [
    "# model = CNN((5, 5, 3, 3), (30, ), len(classes)).to(device)\n",
    "# optimizer = optim.Adam(model.parameters(), lr=0.01)\n",
    "# # print(model)\n",
    "\n",
    "# train(model, device, train_loader, optimizer, 7)\n",
    "# test(model, device, test_loader)"
   ]
  },
  {
   "cell_type": "code",
   "execution_count": 10,
   "id": "c7bdbd39-3f95-4443-89a0-2681864f923e",
   "metadata": {},
   "outputs": [
    {
     "name": "stderr",
     "output_type": "stream",
     "text": [
      "  0%|                                                                                           | 0/40 [00:00<?, ?it/s]C:\\Users\\pc\\AppData\\Local\\Programs\\Python\\Python311\\Lib\\site-packages\\joblib\\externals\\loky\\process_executor.py:752: UserWarning: A worker stopped while some jobs were given to the executor. This can be caused by a too short worker timeout or by a memory leak.\n",
      "  warnings.warn(\n",
      "  2%|██                                                                              | 1/40 [15:14<9:54:44, 914.99s/it]"
     ]
    },
    {
     "name": "stdout",
     "output_type": "stream",
     "text": [
      "0\n",
      "--Chromosome--\n",
      "score: 17.416666666666668\n",
      "kernel_structure: (5, 5)\n",
      "classifier_structure: (46, 25)\n",
      "lr: 0.7648446769334614\n",
      "epochs: 5\n",
      "\n"
     ]
    },
    {
     "name": "stderr",
     "output_type": "stream",
     "text": [
      "  5%|████                                                                            | 2/40 [29:39<9:20:42, 885.33s/it]"
     ]
    },
    {
     "name": "stdout",
     "output_type": "stream",
     "text": [
      "1\n",
      "--Chromosome--\n",
      "score: 16.666666666666668\n",
      "kernel_structure: (5, 3, 3, 5)\n",
      "classifier_structure: (64, 65, 79)\n",
      "lr: 0.694383841328918\n",
      "epochs: 4\n",
      "\n"
     ]
    },
    {
     "name": "stderr",
     "output_type": "stream",
     "text": [
      "  8%|██████                                                                          | 3/40 [42:47<8:38:37, 841.02s/it]"
     ]
    },
    {
     "name": "stdout",
     "output_type": "stream",
     "text": [
      "2\n",
      "--Chromosome--\n",
      "score: 23.666666666666664\n",
      "kernel_structure: (5, 5)\n",
      "classifier_structure: (77, 41, 61)\n",
      "lr: 0.008436801411534316\n",
      "epochs: 2\n",
      "\n"
     ]
    },
    {
     "name": "stderr",
     "output_type": "stream",
     "text": [
      " 12%|█████████▊                                                                    | 5/40 [1:08:14<7:44:25, 796.17s/it]"
     ]
    },
    {
     "name": "stdout",
     "output_type": "stream",
     "text": [
      "4\n",
      "--Chromosome--\n",
      "score: 24.333333333333336\n",
      "kernel_structure: (5, 5)\n",
      "classifier_structure: (77, 41, 61)\n",
      "lr: 0.008436801411534316\n",
      "epochs: 2\n",
      "\n"
     ]
    },
    {
     "name": "stderr",
     "output_type": "stream",
     "text": [
      " 15%|███████████▋                                                                  | 6/40 [1:22:25<7:41:37, 814.64s/it]"
     ]
    },
    {
     "name": "stdout",
     "output_type": "stream",
     "text": [
      "5\n",
      "--Chromosome--\n",
      "score: 30.75\n",
      "kernel_structure: (5, 5)\n",
      "classifier_structure: (77, 41, 61)\n",
      "lr: 0.008436801411534316\n",
      "epochs: 7\n",
      "\n"
     ]
    },
    {
     "name": "stderr",
     "output_type": "stream",
     "text": [
      " 18%|█████████████▋                                                                | 7/40 [1:37:50<7:47:58, 850.85s/it]"
     ]
    },
    {
     "name": "stdout",
     "output_type": "stream",
     "text": [
      "6\n",
      "--Chromosome--\n",
      "score: 46.66666666666667\n",
      "kernel_structure: (5, 5)\n",
      "classifier_structure: (77, 41, 61)\n",
      "lr: 0.008436801411534316\n",
      "epochs: 3\n",
      "\n"
     ]
    },
    {
     "name": "stderr",
     "output_type": "stream",
     "text": [
      " 20%|███████████████▌                                                              | 8/40 [1:52:55<7:42:54, 867.95s/it]"
     ]
    },
    {
     "name": "stdout",
     "output_type": "stream",
     "text": [
      "7\n",
      "--Chromosome--\n",
      "score: 36.083333333333336\n",
      "kernel_structure: (3, 3)\n",
      "classifier_structure: (44, 62, 33)\n",
      "lr: 0.008436801411534316\n",
      "epochs: 2\n",
      "\n"
     ]
    },
    {
     "name": "stderr",
     "output_type": "stream",
     "text": [
      " 22%|█████████████████▌                                                            | 9/40 [2:07:58<7:34:09, 879.03s/it]"
     ]
    },
    {
     "name": "stdout",
     "output_type": "stream",
     "text": [
      "8\n",
      "--Chromosome--\n",
      "score: 75.16666666666667\n",
      "kernel_structure: (5, 5, 5)\n",
      "classifier_structure: (40,)\n",
      "lr: 0.005574219750692194\n",
      "epochs: 5\n",
      "\n"
     ]
    },
    {
     "name": "stderr",
     "output_type": "stream",
     "text": [
      " 25%|███████████████████▎                                                         | 10/40 [2:24:43<7:38:56, 917.89s/it]"
     ]
    },
    {
     "name": "stdout",
     "output_type": "stream",
     "text": [
      "9\n",
      "--Chromosome--\n",
      "score: 93.25\n",
      "kernel_structure: (3, 5)\n",
      "classifier_structure: (40,)\n",
      "lr: 0.005574219750692194\n",
      "epochs: 5\n",
      "\n"
     ]
    },
    {
     "name": "stderr",
     "output_type": "stream",
     "text": [
      " 32%|█████████████████████████                                                    | 13/40 [3:03:32<6:05:25, 812.07s/it]"
     ]
    },
    {
     "name": "stdout",
     "output_type": "stream",
     "text": [
      "12\n",
      "--Chromosome--\n",
      "score: 94.41666666666667\n",
      "kernel_structure: (3, 3)\n",
      "classifier_structure: (47,)\n",
      "lr: 0.008436801411534316\n",
      "epochs: 2\n",
      "\n"
     ]
    },
    {
     "name": "stderr",
     "output_type": "stream",
     "text": [
      " 35%|██████████████████████████▉                                                  | 14/40 [3:16:46<5:49:30, 806.55s/it]"
     ]
    },
    {
     "name": "stdout",
     "output_type": "stream",
     "text": [
      "13\n",
      "--Chromosome--\n",
      "score: 96.33333333333333\n",
      "kernel_structure: (5, 5)\n",
      "classifier_structure: (40,)\n",
      "lr: 0.005574219750692194\n",
      "epochs: 2\n",
      "\n"
     ]
    },
    {
     "name": "stderr",
     "output_type": "stream",
     "text": [
      " 38%|████████████████████████████▉                                                | 15/40 [3:30:33<5:38:41, 812.87s/it]"
     ]
    },
    {
     "name": "stdout",
     "output_type": "stream",
     "text": [
      "14\n",
      "--Chromosome--\n",
      "score: 94.58333333333334\n",
      "kernel_structure: (5, 5)\n",
      "classifier_structure: (40,)\n",
      "lr: 0.005574219750692194\n",
      "epochs: 9\n",
      "\n"
     ]
    },
    {
     "name": "stderr",
     "output_type": "stream",
     "text": [
      " 40%|██████████████████████████████▊                                              | 16/40 [3:47:37<5:50:35, 876.47s/it]"
     ]
    },
    {
     "name": "stdout",
     "output_type": "stream",
     "text": [
      "15\n",
      "--Chromosome--\n",
      "score: 95.41666666666667\n",
      "kernel_structure: (5, 5)\n",
      "classifier_structure: (40,)\n",
      "lr: 0.007005510581113255\n",
      "epochs: 2\n",
      "\n"
     ]
    },
    {
     "name": "stderr",
     "output_type": "stream",
     "text": [
      " 42%|████████████████████████████████▋                                            | 17/40 [4:08:27<6:19:01, 988.76s/it]"
     ]
    },
    {
     "name": "stdout",
     "output_type": "stream",
     "text": [
      "16\n",
      "--Chromosome--\n",
      "score: 97.0\n",
      "kernel_structure: (3, 5)\n",
      "classifier_structure: (40,)\n",
      "lr: 0.006110953812100093\n",
      "epochs: 2\n",
      "\n"
     ]
    },
    {
     "name": "stderr",
     "output_type": "stream",
     "text": [
      " 45%|██████████████████████████████████▋                                          | 18/40 [4:21:18<5:38:31, 923.26s/it]"
     ]
    },
    {
     "name": "stdout",
     "output_type": "stream",
     "text": [
      "17\n",
      "--Chromosome--\n",
      "score: 96.58333333333333\n",
      "kernel_structure: (3, 5)\n",
      "classifier_structure: (40,)\n",
      "lr: 0.005574219750692194\n",
      "epochs: 5\n",
      "\n"
     ]
    },
    {
     "name": "stderr",
     "output_type": "stream",
     "text": [
      " 50%|██████████████████████████████████████▌                                      | 20/40 [4:54:00<5:16:07, 948.37s/it]"
     ]
    },
    {
     "name": "stdout",
     "output_type": "stream",
     "text": [
      "19\n",
      "--Chromosome--\n",
      "score: 95.83333333333334\n",
      "kernel_structure: (3, 5)\n",
      "classifier_structure: (40,)\n",
      "lr: 0.006110953812100093\n",
      "epochs: 2\n",
      "\n"
     ]
    },
    {
     "name": "stderr",
     "output_type": "stream",
     "text": [
      " 52%|████████████████████████████████████████▍                                    | 21/40 [5:12:17<5:14:27, 993.03s/it]"
     ]
    },
    {
     "name": "stdout",
     "output_type": "stream",
     "text": [
      "20\n",
      "--Chromosome--\n",
      "score: 96.16666666666666\n",
      "kernel_structure: (3, 5)\n",
      "classifier_structure: (40,)\n",
      "lr: 0.005574219750692194\n",
      "epochs: 5\n",
      "\n"
     ]
    },
    {
     "name": "stderr",
     "output_type": "stream",
     "text": [
      " 55%|█████████████████████████████████████████▊                                  | 22/40 [5:30:30<5:06:53, 1022.98s/it]"
     ]
    },
    {
     "name": "stdout",
     "output_type": "stream",
     "text": [
      "21\n",
      "--Chromosome--\n",
      "score: 96.83333333333333\n",
      "kernel_structure: (3, 5)\n",
      "classifier_structure: (40,)\n",
      "lr: 0.006289865165902724\n",
      "epochs: 2\n",
      "\n"
     ]
    },
    {
     "name": "stderr",
     "output_type": "stream",
     "text": [
      " 57%|███████████████████████████████████████████▋                                | 23/40 [5:52:08<5:13:16, 1105.67s/it]"
     ]
    },
    {
     "name": "stdout",
     "output_type": "stream",
     "text": [
      "22\n",
      "--Chromosome--\n",
      "score: 96.91666666666667\n",
      "kernel_structure: (3, 5)\n",
      "classifier_structure: (40,)\n",
      "lr: 0.006110953812100093\n",
      "epochs: 2\n",
      "\n"
     ]
    },
    {
     "name": "stderr",
     "output_type": "stream",
     "text": [
      " 60%|█████████████████████████████████████████████▌                              | 24/40 [6:14:02<5:11:27, 1167.99s/it]"
     ]
    },
    {
     "name": "stdout",
     "output_type": "stream",
     "text": [
      "23\n",
      "--Chromosome--\n",
      "score: 97.16666666666666\n",
      "kernel_structure: (3, 3, 5, 5)\n",
      "classifier_structure: (27, 23)\n",
      "lr: 0.00031122075871157004\n",
      "epochs: 9\n",
      "\n"
     ]
    },
    {
     "name": "stderr",
     "output_type": "stream",
     "text": [
      " 62%|███████████████████████████████████████████████▌                            | 25/40 [6:31:52<4:44:40, 1138.67s/it]"
     ]
    },
    {
     "name": "stdout",
     "output_type": "stream",
     "text": [
      "24\n",
      "--Chromosome--\n",
      "score: 96.75\n",
      "kernel_structure: (5, 5)\n",
      "classifier_structure: (43,)\n",
      "lr: 0.005574219750692194\n",
      "epochs: 2\n",
      "\n"
     ]
    },
    {
     "name": "stderr",
     "output_type": "stream",
     "text": [
      " 65%|█████████████████████████████████████████████████▍                          | 26/40 [6:47:39<4:12:18, 1081.31s/it]"
     ]
    },
    {
     "name": "stdout",
     "output_type": "stream",
     "text": [
      "25\n",
      "--Chromosome--\n",
      "score: 98.0\n",
      "kernel_structure: (3, 3)\n",
      "classifier_structure: (40,)\n",
      "lr: 0.0059767702967481184\n",
      "epochs: 2\n",
      "\n"
     ]
    },
    {
     "name": "stderr",
     "output_type": "stream",
     "text": [
      " 68%|███████████████████████████████████████████████████▎                        | 27/40 [7:01:43<3:38:49, 1009.99s/it]"
     ]
    },
    {
     "name": "stdout",
     "output_type": "stream",
     "text": [
      "26\n",
      "--Chromosome--\n",
      "score: 97.41666666666667\n",
      "kernel_structure: (3, 3)\n",
      "classifier_structure: (40,)\n",
      "lr: 0.005708403266044168\n",
      "epochs: 2\n",
      "\n"
     ]
    },
    {
     "name": "stderr",
     "output_type": "stream",
     "text": [
      " 70%|█████████████████████████████████████████████████████▉                       | 28/40 [7:17:01<3:16:27, 982.26s/it]"
     ]
    },
    {
     "name": "stdout",
     "output_type": "stream",
     "text": [
      "27\n",
      "--Chromosome--\n",
      "score: 97.66666666666667\n",
      "kernel_structure: (5, 3)\n",
      "classifier_structure: (40,)\n",
      "lr: 0.005842586781396143\n",
      "epochs: 9\n",
      "\n"
     ]
    },
    {
     "name": "stderr",
     "output_type": "stream",
     "text": [
      " 72%|███████████████████████████████████████████████████████▊                     | 29/40 [7:29:16<2:46:29, 908.17s/it]"
     ]
    },
    {
     "name": "stdout",
     "output_type": "stream",
     "text": [
      "28\n",
      "--Chromosome--\n",
      "score: 96.91666666666666\n",
      "kernel_structure: (3, 3)\n",
      "classifier_structure: (40,)\n",
      "lr: 0.0059767702967481184\n",
      "epochs: 2\n",
      "\n"
     ]
    },
    {
     "name": "stderr",
     "output_type": "stream",
     "text": [
      " 75%|█████████████████████████████████████████████████████████▊                   | 30/40 [7:36:34<2:07:52, 767.29s/it]"
     ]
    },
    {
     "name": "stdout",
     "output_type": "stream",
     "text": [
      "29\n",
      "--Chromosome--\n",
      "score: 97.5\n",
      "kernel_structure: (3, 3)\n",
      "classifier_structure: (40,)\n",
      "lr: 0.005993543236167115\n",
      "epochs: 2\n",
      "\n"
     ]
    },
    {
     "name": "stderr",
     "output_type": "stream",
     "text": [
      " 78%|███████████████████████████████████████████████████████████▋                 | 31/40 [7:46:18<1:46:49, 712.17s/it]"
     ]
    },
    {
     "name": "stdout",
     "output_type": "stream",
     "text": [
      "30\n",
      "--Chromosome--\n",
      "score: 97.33333333333334\n",
      "kernel_structure: (3, 5)\n",
      "classifier_structure: (40,)\n",
      "lr: 0.005993543236167115\n",
      "epochs: 2\n",
      "\n"
     ]
    },
    {
     "name": "stderr",
     "output_type": "stream",
     "text": [
      " 80%|█████████████████████████████████████████████████████████████▌               | 32/40 [7:53:49<1:24:31, 633.93s/it]"
     ]
    },
    {
     "name": "stdout",
     "output_type": "stream",
     "text": [
      "31\n",
      "--Chromosome--\n",
      "score: 97.08333333333333\n",
      "kernel_structure: (3, 3)\n",
      "classifier_structure: (43,)\n",
      "lr: 0.006001929705876614\n",
      "epochs: 2\n",
      "\n"
     ]
    },
    {
     "name": "stderr",
     "output_type": "stream",
     "text": [
      " 82%|███████████████████████████████████████████████████████████████▌             | 33/40 [8:06:42<1:18:48, 675.44s/it]"
     ]
    },
    {
     "name": "stdout",
     "output_type": "stream",
     "text": [
      "32\n",
      "--Chromosome--\n",
      "score: 96.83333333333334\n",
      "kernel_structure: (5, 3)\n",
      "classifier_structure: (43,)\n",
      "lr: 0.005959997357329121\n",
      "epochs: 2\n",
      "\n"
     ]
    },
    {
     "name": "stderr",
     "output_type": "stream",
     "text": [
      " 85%|█████████████████████████████████████████████████████████████████▍           | 34/40 [8:20:02<1:11:16, 712.81s/it]"
     ]
    },
    {
     "name": "stdout",
     "output_type": "stream",
     "text": [
      "33\n",
      "--Chromosome--\n",
      "score: 96.75\n",
      "kernel_structure: (5, 3)\n",
      "classifier_structure: (43,)\n",
      "lr: 0.005959997357329121\n",
      "epochs: 2\n",
      "\n"
     ]
    },
    {
     "name": "stderr",
     "output_type": "stream",
     "text": [
      " 88%|███████████████████████████████████████████████████████████████████▍         | 35/40 [8:35:19<1:04:30, 774.19s/it]"
     ]
    },
    {
     "name": "stdout",
     "output_type": "stream",
     "text": [
      "34\n",
      "--Chromosome--\n",
      "score: 96.41666666666667\n",
      "kernel_structure: (3, 3)\n",
      "classifier_structure: (40,)\n",
      "lr: 0.0060438620544241055\n",
      "epochs: 2\n",
      "\n"
     ]
    },
    {
     "name": "stderr",
     "output_type": "stream",
     "text": [
      " 90%|███████████████████████████████████████████████████████████████████████        | 36/40 [8:47:06<50:16, 754.03s/it]"
     ]
    },
    {
     "name": "stdout",
     "output_type": "stream",
     "text": [
      "35\n",
      "--Chromosome--\n",
      "score: 97.0\n",
      "kernel_structure: (3, 3)\n",
      "classifier_structure: (43,)\n",
      "lr: 0.0060103161755861115\n",
      "epochs: 2\n",
      "\n"
     ]
    },
    {
     "name": "stderr",
     "output_type": "stream",
     "text": [
      " 92%|█████████████████████████████████████████████████████████████████████████      | 37/40 [8:59:38<37:39, 753.30s/it]"
     ]
    },
    {
     "name": "stdout",
     "output_type": "stream",
     "text": [
      "36\n",
      "--Chromosome--\n",
      "score: 97.5\n",
      "kernel_structure: (3, 3)\n",
      "classifier_structure: (40,)\n",
      "lr: 0.0060103161755861115\n",
      "epochs: 2\n",
      "\n"
     ]
    },
    {
     "name": "stderr",
     "output_type": "stream",
     "text": [
      " 95%|███████████████████████████████████████████████████████████████████████████    | 38/40 [9:12:46<25:27, 763.75s/it]"
     ]
    },
    {
     "name": "stdout",
     "output_type": "stream",
     "text": [
      "37\n",
      "--Chromosome--\n",
      "score: 97.16666666666666\n",
      "kernel_structure: (3, 3)\n",
      "classifier_structure: (40,)\n",
      "lr: 0.0060438620544241055\n",
      "epochs: 2\n",
      "\n"
     ]
    },
    {
     "name": "stderr",
     "output_type": "stream",
     "text": [
      " 98%|█████████████████████████████████████████████████████████████████████████████  | 39/40 [9:23:59<12:16, 736.48s/it]"
     ]
    },
    {
     "name": "stdout",
     "output_type": "stream",
     "text": [
      "38\n",
      "--Chromosome--\n",
      "score: 97.25\n",
      "kernel_structure: (3, 3)\n",
      "classifier_structure: (43,)\n",
      "lr: 0.0060103161755861115\n",
      "epochs: 2\n",
      "\n"
     ]
    },
    {
     "name": "stderr",
     "output_type": "stream",
     "text": [
      "100%|███████████████████████████████████████████████████████████████████████████████| 40/40 [9:37:24<00:00, 866.10s/it]"
     ]
    },
    {
     "name": "stdout",
     "output_type": "stream",
     "text": [
      "39\n",
      "--Chromosome--\n",
      "score: 98.58333333333334\n",
      "kernel_structure: (5, 5)\n",
      "classifier_structure: (55,)\n",
      "lr: 0.0017810669092231872\n",
      "epochs: 9\n",
      "\n"
     ]
    },
    {
     "name": "stderr",
     "output_type": "stream",
     "text": [
      "\n"
     ]
    }
   ],
   "source": [
    "population = []\n",
    "for _ in range(POPULATION_SIZE):\n",
    "    c = chromosome_factory.generate(MyChromosome)\n",
    "    population.append(c)\n",
    "\n",
    "with Parallel(n_jobs=2) as parallel: \n",
    "    for iteration in tqdm(range(ITERATIONS)):\n",
    "        # scores = [evaluate(chromosome) for chromosome in population]\n",
    "        scores = parallel(delayed(evaluate)(chromosome) for chromosome in population)\n",
    "        for i, chromosome in enumerate(population):\n",
    "            chromosome.set_score(scores[i])\n",
    "    \n",
    "    \n",
    "        # selection of best instances \n",
    "        population = sorted(population, key=lambda x: x.get_score(), reverse=True)[:POPULATION_SIZE // 3]\n",
    "        # checking for the best solution \n",
    "        if best is None or population[0].get_score() > best.get_score():\n",
    "            best = population[0]\n",
    "            print(iteration)\n",
    "            print(best)\n",
    "    \n",
    "        # filling the population with new genes \n",
    "        while len(population) < POPULATION_SIZE:\n",
    "            r = random.random()\n",
    "            if r < 0.33:\n",
    "                population.append(random.choice(population).crossover(random.choice(population)))\n",
    "            elif 0.33 <= r < 0.66:\n",
    "                population.append(random.choice(population).mutate())\n",
    "            else:\n",
    "                population.append(chromosome_factory.generate(MyChromosome))\n",
    "    else: \n",
    "        # scores = [evaluate(chromosome) for chromosome in population]\n",
    "        scores = parallel(delayed(evaluate)(chromosome) for chromosome in population)\n",
    "        for i, chromosome in enumerate(population):\n",
    "            chromosome.set_score(scores[i])"
   ]
  },
  {
   "cell_type": "code",
   "execution_count": 12,
   "id": "c213b245-4eb3-4b3d-8ada-e374e9b22ac2",
   "metadata": {},
   "outputs": [
    {
     "name": "stdout",
     "output_type": "stream",
     "text": [
      "--Chromosome--\n",
      "score: 98.75\n",
      "kernel_structure: (5, 5)\n",
      "classifier_structure: (55,)\n",
      "lr: 0.0017810669092231872\n",
      "epochs: 9\n",
      "\n",
      "--Chromosome--\n",
      "score: 98.75\n",
      "kernel_structure: (5, 5)\n",
      "classifier_structure: (55,)\n",
      "lr: 0.0017810669092231872\n",
      "epochs: 9\n",
      "\n",
      "--Chromosome--\n",
      "score: 97.75\n",
      "kernel_structure: (3, 5)\n",
      "classifier_structure: (40,)\n",
      "lr: 0.006035475584714607\n",
      "epochs: 3\n",
      "\n",
      "--Chromosome--\n",
      "score: 96.66666666666667\n",
      "kernel_structure: (5, 3)\n",
      "classifier_structure: (40,)\n",
      "lr: 0.0060103161755861115\n",
      "epochs: 3\n",
      "\n",
      "--Chromosome--\n",
      "score: 96.25\n",
      "kernel_structure: (5, 3)\n",
      "classifier_structure: (40,)\n",
      "lr: 0.0060103161755861115\n",
      "epochs: 3\n",
      "\n",
      "--Chromosome--\n",
      "score: 96.0\n",
      "kernel_structure: (3, 3)\n",
      "classifier_structure: (40,)\n",
      "lr: 0.0060103161755861115\n",
      "epochs: 2\n",
      "\n",
      "--Chromosome--\n",
      "score: 95.58333333333333\n",
      "kernel_structure: (3, 3)\n",
      "classifier_structure: (43,)\n",
      "lr: 0.006022895880150359\n",
      "epochs: 2\n",
      "\n",
      "--Chromosome--\n",
      "score: 95.0\n",
      "kernel_structure: (3, 5)\n",
      "classifier_structure: (43,)\n",
      "lr: 0.005980963531602867\n",
      "epochs: 2\n",
      "\n",
      "--Chromosome--\n",
      "score: 94.08333333333334\n",
      "kernel_structure: (5, 3)\n",
      "classifier_structure: (40,)\n",
      "lr: 0.0060103161755861115\n",
      "epochs: 3\n",
      "\n",
      "--Chromosome--\n",
      "score: 93.66666666666667\n",
      "kernel_structure: (3, 3)\n",
      "classifier_structure: (40,)\n",
      "lr: 0.006060634993843102\n",
      "epochs: 3\n",
      "\n",
      "--Chromosome--\n",
      "score: 93.33333333333333\n",
      "kernel_structure: (3, 5)\n",
      "classifier_structure: (40,)\n",
      "lr: 0.0060302340411461704\n",
      "epochs: 2\n",
      "\n",
      "--Chromosome--\n",
      "score: 92.91666666666666\n",
      "kernel_structure: (3, 3)\n",
      "classifier_structure: (40,)\n",
      "lr: 0.006060634993843102\n",
      "epochs: 3\n",
      "\n",
      "--Chromosome--\n",
      "score: 92.75\n",
      "kernel_structure: (3, 5)\n",
      "classifier_structure: (40,)\n",
      "lr: 0.006022895880150359\n",
      "epochs: 3\n",
      "\n",
      "--Chromosome--\n",
      "score: 91.33333333333333\n",
      "kernel_structure: (3, 5)\n",
      "classifier_structure: (40,)\n",
      "lr: 0.006024992497577734\n",
      "epochs: 3\n",
      "\n",
      "--Chromosome--\n",
      "score: 88.66666666666666\n",
      "kernel_structure: (3, 5)\n",
      "classifier_structure: (40,)\n",
      "lr: 0.006022895880150359\n",
      "epochs: 3\n",
      "\n",
      "--Chromosome--\n",
      "score: 85.16666666666666\n",
      "kernel_structure: (5, 5)\n",
      "classifier_structure: (40,)\n",
      "lr: 0.0060103161755861115\n",
      "epochs: 3\n",
      "\n",
      "--Chromosome--\n",
      "score: 76.91666666666667\n",
      "kernel_structure: (5, 3, 3, 3)\n",
      "classifier_structure: (43,)\n",
      "lr: 0.006024992497577734\n",
      "epochs: 2\n",
      "\n",
      "--Chromosome--\n",
      "score: 55.75\n",
      "kernel_structure: (3, 3)\n",
      "classifier_structure: (43,)\n",
      "lr: 0.006027089115005109\n",
      "epochs: 2\n",
      "\n",
      "--Chromosome--\n",
      "score: 54.41666666666667\n",
      "kernel_structure: (3, 3)\n",
      "classifier_structure: (40,)\n",
      "lr: 0.006035475584714607\n",
      "epochs: 2\n",
      "\n",
      "--Chromosome--\n",
      "score: 51.75\n",
      "kernel_structure: (5, 5, 5)\n",
      "classifier_structure: (43,)\n",
      "lr: 0.005980963531602867\n",
      "epochs: 6\n",
      "\n",
      "--Chromosome--\n",
      "score: 42.5\n",
      "kernel_structure: (5, 5, 3, 5)\n",
      "classifier_structure: (40,)\n",
      "lr: 0.006022895880150359\n",
      "epochs: 8\n",
      "\n",
      "--Chromosome--\n",
      "score: 31.833333333333332\n",
      "kernel_structure: (5, 3)\n",
      "classifier_structure: (74, 62, 66)\n",
      "lr: 0.006060634993843102\n",
      "epochs: 3\n",
      "\n",
      "--Chromosome--\n",
      "score: 16.666666666666668\n",
      "kernel_structure: (5, 3, 3, 5)\n",
      "classifier_structure: (57, 76, 71)\n",
      "lr: 0.6204328591689614\n",
      "epochs: 2\n",
      "\n",
      "--Chromosome--\n",
      "score: 16.666666666666668\n",
      "kernel_structure: (5, 3, 3)\n",
      "classifier_structure: (52, 70, 58)\n",
      "lr: 0.8418741973033053\n",
      "epochs: 4\n",
      "\n",
      "--Chromosome--\n",
      "score: 16.666666666666668\n",
      "kernel_structure: (5, 3, 3, 3)\n",
      "classifier_structure: (64, 50)\n",
      "lr: 0.4659179820646752\n",
      "epochs: 5\n",
      "\n",
      "--Chromosome--\n",
      "score: 16.666666666666668\n",
      "kernel_structure: (3, 5)\n",
      "classifier_structure: (58, 62, 73)\n",
      "lr: 0.20463726265867813\n",
      "epochs: 9\n",
      "\n",
      "--Chromosome--\n",
      "score: 16.666666666666668\n",
      "kernel_structure: (5, 3, 3, 3)\n",
      "classifier_structure: (53, 46, 23)\n",
      "lr: 0.4659179820646752\n",
      "epochs: 5\n",
      "\n",
      "--Chromosome--\n",
      "score: 16.666666666666668\n",
      "kernel_structure: (3, 5)\n",
      "classifier_structure: (70, 70, 58)\n",
      "lr: 0.4239485465917278\n",
      "epochs: 2\n",
      "\n",
      "--Chromosome--\n",
      "score: 16.666666666666668\n",
      "kernel_structure: (5, 5, 3, 5)\n",
      "classifier_structure: (60, 32, 56)\n",
      "lr: 0.006022895880150359\n",
      "epochs: 9\n",
      "\n",
      "--Chromosome--\n",
      "score: 16.583333333333336\n",
      "kernel_structure: (3, 3, 5, 5)\n",
      "classifier_structure: (76,)\n",
      "lr: 0.8832541521269354\n",
      "epochs: 3\n",
      "\n",
      "--Chromosome--\n",
      "score: 15.333333333333334\n",
      "kernel_structure: (5, 3, 5)\n",
      "classifier_structure: (23,)\n",
      "lr: 0.560559523481401\n",
      "epochs: 5\n",
      "\n"
     ]
    }
   ],
   "source": [
    "for ch in population: \n",
    "    if ch.get_score() is None: \n",
    "        ch.set_score(0)\n",
    "\n",
    "for ch in sorted(population, key=MyChromosome.get_score, reverse=True): \n",
    "    print(ch)"
   ]
  },
  {
   "cell_type": "code",
   "execution_count": 43,
   "id": "c2af6c51-6e5a-414f-b0e0-9f8c8a45b6af",
   "metadata": {},
   "outputs": [],
   "source": [
    "import pickle \n",
    "# TODO: make parameter distribution \n",
    "\n",
    "\n",
    "\n",
    "ps = None \n",
    "for i, ch in enumerate(population): \n",
    "    ps = pickle.dumps(ch)\n",
    "\n",
    "    with open(f'chromosomes/{i}.txt', mode='wb') as file: \n",
    "        ps = pickle.dumps(ch)\n",
    "        file.write(ps)"
   ]
  },
  {
   "cell_type": "code",
   "execution_count": 44,
   "id": "5ce84fc5-6537-4bac-b226-417a17f0daa1",
   "metadata": {},
   "outputs": [
    {
     "name": "stdout",
     "output_type": "stream",
     "text": [
      "--Chromosome--\n",
      "score: 98.75\n",
      "kernel_structure: (5, 5)\n",
      "classifier_structure: (55,)\n",
      "lr: 0.0017810669092231872\n",
      "epochs: 9\n",
      "\n",
      "--Chromosome--\n",
      "score: 91.33333333333333\n",
      "kernel_structure: (3, 5)\n",
      "classifier_structure: (40,)\n",
      "lr: 0.006024992497577734\n",
      "epochs: 3\n",
      "\n",
      "--Chromosome--\n",
      "score: 54.41666666666667\n",
      "kernel_structure: (3, 3)\n",
      "classifier_structure: (40,)\n",
      "lr: 0.006035475584714607\n",
      "epochs: 2\n",
      "\n",
      "--Chromosome--\n",
      "score: 55.75\n",
      "kernel_structure: (3, 3)\n",
      "classifier_structure: (43,)\n",
      "lr: 0.006027089115005109\n",
      "epochs: 2\n",
      "\n",
      "--Chromosome--\n",
      "score: 96.0\n",
      "kernel_structure: (3, 3)\n",
      "classifier_structure: (40,)\n",
      "lr: 0.0060103161755861115\n",
      "epochs: 2\n",
      "\n",
      "--Chromosome--\n",
      "score: 95.58333333333333\n",
      "kernel_structure: (3, 3)\n",
      "classifier_structure: (43,)\n",
      "lr: 0.006022895880150359\n",
      "epochs: 2\n",
      "\n",
      "--Chromosome--\n",
      "score: 88.66666666666666\n",
      "kernel_structure: (3, 5)\n",
      "classifier_structure: (40,)\n",
      "lr: 0.006022895880150359\n",
      "epochs: 3\n",
      "\n",
      "--Chromosome--\n",
      "score: 95.0\n",
      "kernel_structure: (3, 5)\n",
      "classifier_structure: (43,)\n",
      "lr: 0.005980963531602867\n",
      "epochs: 2\n",
      "\n",
      "--Chromosome--\n",
      "score: 93.66666666666667\n",
      "kernel_structure: (3, 3)\n",
      "classifier_structure: (40,)\n",
      "lr: 0.006060634993843102\n",
      "epochs: 3\n",
      "\n",
      "--Chromosome--\n",
      "score: 96.25\n",
      "kernel_structure: (5, 3)\n",
      "classifier_structure: (40,)\n",
      "lr: 0.0060103161755861115\n",
      "epochs: 3\n",
      "\n",
      "--Chromosome--\n",
      "score: 94.08333333333334\n",
      "kernel_structure: (5, 3)\n",
      "classifier_structure: (40,)\n",
      "lr: 0.0060103161755861115\n",
      "epochs: 3\n",
      "\n",
      "--Chromosome--\n",
      "score: 16.666666666666668\n",
      "kernel_structure: (5, 3, 3, 5)\n",
      "classifier_structure: (57, 76, 71)\n",
      "lr: 0.6204328591689614\n",
      "epochs: 2\n",
      "\n",
      "--Chromosome--\n",
      "score: 85.16666666666666\n",
      "kernel_structure: (5, 5)\n",
      "classifier_structure: (40,)\n",
      "lr: 0.0060103161755861115\n",
      "epochs: 3\n",
      "\n",
      "--Chromosome--\n",
      "score: 16.583333333333336\n",
      "kernel_structure: (3, 3, 5, 5)\n",
      "classifier_structure: (76,)\n",
      "lr: 0.8832541521269354\n",
      "epochs: 3\n",
      "\n",
      "--Chromosome--\n",
      "score: 31.833333333333332\n",
      "kernel_structure: (5, 3)\n",
      "classifier_structure: (74, 62, 66)\n",
      "lr: 0.006060634993843102\n",
      "epochs: 3\n",
      "\n",
      "--Chromosome--\n",
      "score: 92.75\n",
      "kernel_structure: (3, 5)\n",
      "classifier_structure: (40,)\n",
      "lr: 0.006022895880150359\n",
      "epochs: 3\n",
      "\n",
      "--Chromosome--\n",
      "score: 16.666666666666668\n",
      "kernel_structure: (5, 3, 3)\n",
      "classifier_structure: (52, 70, 58)\n",
      "lr: 0.8418741973033053\n",
      "epochs: 4\n",
      "\n",
      "--Chromosome--\n",
      "score: 93.33333333333333\n",
      "kernel_structure: (3, 5)\n",
      "classifier_structure: (40,)\n",
      "lr: 0.0060302340411461704\n",
      "epochs: 2\n",
      "\n",
      "--Chromosome--\n",
      "score: 96.66666666666667\n",
      "kernel_structure: (5, 3)\n",
      "classifier_structure: (40,)\n",
      "lr: 0.0060103161755861115\n",
      "epochs: 3\n",
      "\n",
      "--Chromosome--\n",
      "score: 16.666666666666668\n",
      "kernel_structure: (5, 3, 3, 3)\n",
      "classifier_structure: (64, 50)\n",
      "lr: 0.4659179820646752\n",
      "epochs: 5\n",
      "\n",
      "--Chromosome--\n",
      "score: 16.666666666666668\n",
      "kernel_structure: (3, 5)\n",
      "classifier_structure: (58, 62, 73)\n",
      "lr: 0.20463726265867813\n",
      "epochs: 9\n",
      "\n",
      "--Chromosome--\n",
      "score: 42.5\n",
      "kernel_structure: (5, 5, 3, 5)\n",
      "classifier_structure: (40,)\n",
      "lr: 0.006022895880150359\n",
      "epochs: 8\n",
      "\n",
      "--Chromosome--\n",
      "score: 16.666666666666668\n",
      "kernel_structure: (5, 3, 3, 3)\n",
      "classifier_structure: (53, 46, 23)\n",
      "lr: 0.4659179820646752\n",
      "epochs: 5\n",
      "\n",
      "--Chromosome--\n",
      "score: 51.75\n",
      "kernel_structure: (5, 5, 5)\n",
      "classifier_structure: (43,)\n",
      "lr: 0.005980963531602867\n",
      "epochs: 6\n",
      "\n",
      "--Chromosome--\n",
      "score: 16.666666666666668\n",
      "kernel_structure: (3, 5)\n",
      "classifier_structure: (70, 70, 58)\n",
      "lr: 0.4239485465917278\n",
      "epochs: 2\n",
      "\n",
      "--Chromosome--\n",
      "score: 15.333333333333334\n",
      "kernel_structure: (5, 3, 5)\n",
      "classifier_structure: (23,)\n",
      "lr: 0.560559523481401\n",
      "epochs: 5\n",
      "\n",
      "--Chromosome--\n",
      "score: 92.91666666666666\n",
      "kernel_structure: (3, 3)\n",
      "classifier_structure: (40,)\n",
      "lr: 0.006060634993843102\n",
      "epochs: 3\n",
      "\n",
      "--Chromosome--\n",
      "score: 16.666666666666668\n",
      "kernel_structure: (5, 5, 3, 5)\n",
      "classifier_structure: (60, 32, 56)\n",
      "lr: 0.006022895880150359\n",
      "epochs: 9\n",
      "\n",
      "--Chromosome--\n",
      "score: 76.91666666666667\n",
      "kernel_structure: (5, 3, 3, 3)\n",
      "classifier_structure: (43,)\n",
      "lr: 0.006024992497577734\n",
      "epochs: 2\n",
      "\n",
      "--Chromosome--\n",
      "score: 97.75\n",
      "kernel_structure: (3, 5)\n",
      "classifier_structure: (40,)\n",
      "lr: 0.006035475584714607\n",
      "epochs: 3\n",
      "\n"
     ]
    }
   ],
   "source": [
    "for i in range(30): \n",
    "    ch_loaded = pickle.loads(open(f'chromosomes/{i}.txt', mode='rb').read())\n",
    "    print(ch_loaded)"
   ]
  }
 ],
 "metadata": {
  "kernelspec": {
   "display_name": "Python 3 (ipykernel)",
   "language": "python",
   "name": "python3"
  },
  "language_info": {
   "codemirror_mode": {
    "name": "ipython",
    "version": 3
   },
   "file_extension": ".py",
   "mimetype": "text/x-python",
   "name": "python",
   "nbconvert_exporter": "python",
   "pygments_lexer": "ipython3",
   "version": "3.11.4"
  }
 },
 "nbformat": 4,
 "nbformat_minor": 5
}
