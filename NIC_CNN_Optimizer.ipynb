{
  "nbformat": 4,
  "nbformat_minor": 0,
  "metadata": {
    "colab": {
      "provenance": [],
      "gpuType": "T4"
    },
    "kernelspec": {
      "name": "python3",
      "display_name": "Python 3"
    },
    "language_info": {
      "name": "python"
    },
    "accelerator": "GPU"
  },
  "cells": [
    {
      "cell_type": "code",
      "execution_count": 1,
      "metadata": {
        "id": "pWbToC1_lNcO"
      },
      "outputs": [],
      "source": [
        "from keras.datasets import cifar10\n",
        "from tensorflow.keras.utils import to_categorical\n",
        "from keras import layers\n",
        "from keras import models\n",
        "from keras import optimizers\n",
        "from keras.callbacks import EarlyStopping\n",
        "import random\n",
        "import numpy as np\n",
        "from tensorflow import keras"
      ]
    },
    {
      "cell_type": "code",
      "source": [
        "# Load CIFAR-10 dataset\n",
        "(X_train, y_train), (X_test, y_test) = cifar10.load_data()"
      ],
      "metadata": {
        "colab": {
          "base_uri": "https://localhost:8080/"
        },
        "id": "M7io6pjllVST",
        "outputId": "621b853b-e39b-4283-ee43-05ee476f03d8"
      },
      "execution_count": 2,
      "outputs": [
        {
          "output_type": "stream",
          "name": "stdout",
          "text": [
            "Downloading data from https://www.cs.toronto.edu/~kriz/cifar-10-python.tar.gz\n",
            "170498071/170498071 [==============================] - 4s 0us/step\n"
          ]
        }
      ]
    },
    {
      "cell_type": "code",
      "source": [
        "# Normalize pixel values to the range [0, 1]\n",
        "X_train = X_train.astype('float32') / 255.0\n",
        "X_test = X_test.astype('float32') / 255.0"
      ],
      "metadata": {
        "id": "WqMQ3ggjlubq"
      },
      "execution_count": 3,
      "outputs": []
    },
    {
      "cell_type": "code",
      "source": [
        "# Convert labels to categorical one-hot encoding\n",
        "num_classes = 10\n",
        "y_train = to_categorical(y_train, num_classes)\n",
        "y_test = to_categorical(y_test, num_classes)"
      ],
      "metadata": {
        "id": "K9gH7XdTmDwg"
      },
      "execution_count": 4,
      "outputs": []
    },
    {
      "cell_type": "code",
      "source": [
        "# Split the training dataset into validation and partial training sets\n",
        "val_images = X_train[:10000]\n",
        "partial_images = X_train[10000:]\n",
        "\n",
        "val_labels = y_train[:10000]\n",
        "partial_labels = y_train[10000:]"
      ],
      "metadata": {
        "id": "NAkYenwtmFb0"
      },
      "execution_count": 5,
      "outputs": []
    },
    {
      "cell_type": "code",
      "source": [
        "class GeneticCNNOptimizer:\n",
        "    def __init__(self, partial_images, partial_labels, val_images, val_labels, X_test, y_test, population_size=10, generations=3, threshold=90):\n",
        "        self.partial_images = partial_images\n",
        "        self.partial_labels = partial_labels\n",
        "        self.val_images = val_images\n",
        "        self.val_labels = val_labels\n",
        "        self.X_test = X_test\n",
        "        self.y_test = y_test\n",
        "        self.population_size = population_size\n",
        "        self.generations = generations\n",
        "        self.threshold = threshold\n",
        "        self.population = self.generate_population(population_size)\n",
        "\n",
        "    def create_custom_cnn_model(self, chromosome):\n",
        "        custom_model = models.Sequential()\n",
        "        custom_model.add(layers.Conv2D(filters=chromosome[\"filters_1\"], kernel_size=chromosome[\"kernel_size\"], activation=chromosome[\"activation_1\"], input_shape=(32, 32, 3)))\n",
        "        custom_model.add(layers.Conv2D(filters=chromosome[\"filters_1\"], kernel_size=chromosome[\"kernel_size\"], activation=chromosome[\"activation_1\"]))\n",
        "        custom_model.add(layers.MaxPooling2D(pool_size=(2, 2)))\n",
        "        custom_model.add(layers.Conv2D(filters=chromosome[\"filters_2\"], kernel_size=chromosome[\"kernel_size\"], activation=chromosome[\"activation_2\"]))\n",
        "        custom_model.add(layers.Conv2D(filters=chromosome[\"filters_2\"], kernel_size=chromosome[\"kernel_size\"], activation=chromosome[\"activation_2\"]))\n",
        "        custom_model.add(layers.MaxPooling2D(pool_size=(2, 2)))\n",
        "        custom_model.add(layers.Flatten())\n",
        "        custom_model.add(layers.Dropout(rate=chromosome[\"dropout_1\"]))\n",
        "        custom_model.add(layers.Dense(units=chromosome[\"filters_3\"], activation=chromosome[\"activation_2\"]))\n",
        "        custom_model.add(layers.Dropout(rate=chromosome[\"dropout_2\"]))\n",
        "        custom_model.add(layers.Dense(units=10, activation=\"softmax\"))\n",
        "\n",
        "        optimizer = getattr(optimizers, chromosome[\"optimizer\"])()\n",
        "        custom_model.compile(loss=\"categorical_crossentropy\", optimizer=optimizer, metrics=[\"accuracy\"])\n",
        "\n",
        "        early_stopping = EarlyStopping(monitor=\"val_accuracy\", patience=7)\n",
        "        custom_model.fit(self.partial_images, self.partial_labels, validation_data=(self.val_images, self.val_labels), epochs=chromosome[\"epochs\"], batch_size=100, callbacks=[early_stopping], verbose=0)\n",
        "\n",
        "        return custom_model\n",
        "\n",
        "    def initialize_parameters(self):\n",
        "        parameters = {\n",
        "            \"filters_1\": random.choice([32, 64]),\n",
        "            \"filters_2\": random.choice([64, 128]),\n",
        "            \"filters_3\": random.choice([128, 256, 512]),\n",
        "            \"kernel_size\": random.choice([(3, 3), (5, 5)]),\n",
        "            \"activation_1\": random.choice([\"relu\", \"sigmoid\", \"tanh\"]),\n",
        "            \"activation_2\": random.choice([\"relu\", \"sigmoid\", \"tanh\"]),\n",
        "            \"dropout_1\": round(random.uniform(0.1, 0.5), 1),\n",
        "            \"dropout_2\": round(random.uniform(0.1, 0.5), 1),\n",
        "            \"optimizer\": random.choice([\"Adam\", \"Adagrad\", \"SGD\", \"RMSprop\"]),\n",
        "            \"epochs\": np.random.randint(50, 80)\n",
        "        }\n",
        "        return parameters\n",
        "\n",
        "    def generate_population(self, n):\n",
        "        return [self.initialize_parameters() for _ in range(n)]\n",
        "\n",
        "    def evaluate_fitness(self, model):\n",
        "        evaluation_metrics = model.evaluate(self.X_test, self.y_test, verbose=0)\n",
        "        accuracy = evaluation_metrics[1]\n",
        "        return accuracy\n",
        "\n",
        "    def selection(self, population_fitness):\n",
        "        total = sum(population_fitness)\n",
        "        percentage = [round((x / total) * 100) for x in population_fitness]\n",
        "        selection_wheel = []\n",
        "        for pop_index, num in enumerate(percentage):\n",
        "            selection_wheel.extend([pop_index] * num)\n",
        "        parent1_ind = random.choice(selection_wheel)\n",
        "        parent2_ind = random.choice(selection_wheel)\n",
        "        return [parent1_ind, parent2_ind]\n",
        "\n",
        "    def crossover(self, parent1, parent2):\n",
        "        child1, child2 = {}, {}\n",
        "        for key in parent1:\n",
        "            child1[key], child2[key] = random.choice([(parent1[key], parent2[key]), (parent2[key], parent1[key])])\n",
        "        return [child1, child2]\n",
        "\n",
        "    def mutation(self, chromosome):\n",
        "        if random.randint(0, 1):\n",
        "            chromosome[\"epochs\"] = min(100, chromosome[\"epochs\"] + random.randint(1, 10))\n",
        "        return chromosome\n",
        "\n",
        "    def evolve(self):\n",
        "        for generation in range(self.generations):\n",
        "            print(f\"Starting Generation {generation + 1}/{self.generations}\")\n",
        "\n",
        "            # Evaluate the fitness of each individual in the population\n",
        "            population_fitness = []\n",
        "            for chromosome in self.population:\n",
        "                try:\n",
        "                    model = self.create_custom_cnn_model(chromosome)\n",
        "                    fitness = self.evaluate_fitness(model)\n",
        "                    population_fitness.append(fitness)\n",
        "                    print(f\"Chromosome: {chromosome}, Fitness (Accuracy): {fitness}\")\n",
        "                except Exception as e:\n",
        "                    print(f\"Error training model with chromosome {chromosome}: {e}\")\n",
        "                    population_fitness.append(0)  # Assign a low fitness value to failed models\n",
        "\n",
        "            # Selection of parents for the next generation\n",
        "            parents_indices = self.selection(population_fitness)\n",
        "            parent1 = self.population[parents_indices[0]]\n",
        "            parent2 = self.population[parents_indices[1]]\n",
        "\n",
        "            # Crossover and mutation to create new offspring\n",
        "            children = self.crossover(parent1, parent2)\n",
        "            mutated_children = [self.mutation(child) for child in children]\n",
        "\n",
        "            # Add new offspring to the population\n",
        "            self.population.extend(mutated_children)\n",
        "\n",
        "            # Remove least fit individuals\n",
        "            sorted_fitness_indices = sorted(range(len(population_fitness)), key=lambda i: population_fitness[i])\n",
        "            self.population = [self.population[i] for i in sorted_fitness_indices[-self.population_size:]]\n",
        "\n",
        "            max_fitness = max(population_fitness)\n",
        "            print(f\"End of Generation {generation + 1}, Max Fitness (Accuracy): {max_fitness}\")\n",
        "\n",
        "            # Check if the desired threshold has been met\n",
        "            if max_fitness >= self.threshold:\n",
        "                print(f\"Desired accuracy threshold of {self.threshold}% achieved. Stopping evolution.\")\n",
        "                break"
      ],
      "metadata": {
        "id": "EVbAPPDtosie"
      },
      "execution_count": 6,
      "outputs": []
    },
    {
      "cell_type": "code",
      "source": [
        "# Create an instance of the GeneticCNNOptimizer class\n",
        "hypertune = GeneticCNNOptimizer(\n",
        "    partial_images=partial_images,\n",
        "    partial_labels=partial_labels,\n",
        "    val_images=val_images,\n",
        "    val_labels=val_labels,\n",
        "    X_test=X_test,\n",
        "    y_test=y_test,\n",
        "    population_size=5,\n",
        "    generations=1,\n",
        "    threshold=0.80  # This threshold is a proportion (e.g., 0.90 for 90% accuracy)\n",
        ")"
      ],
      "metadata": {
        "id": "BdBM42kppBJh"
      },
      "execution_count": 7,
      "outputs": []
    },
    {
      "cell_type": "code",
      "source": [
        "# Start the evolution process\n",
        "hypertune.evolve()"
      ],
      "metadata": {
        "colab": {
          "base_uri": "https://localhost:8080/"
        },
        "id": "3yM2np_fq7hx",
        "outputId": "a58a75bc-b0c4-481c-bec5-de68ade8d90d"
      },
      "execution_count": 8,
      "outputs": [
        {
          "output_type": "stream",
          "name": "stdout",
          "text": [
            "Starting Generation 1/1\n",
            "Chromosome: {'filters_1': 32, 'filters_2': 128, 'filters_3': 256, 'kernel_size': (5, 5), 'activation_1': 'sigmoid', 'activation_2': 'tanh', 'dropout_1': 0.5, 'dropout_2': 0.3, 'optimizer': 'RMSprop', 'epochs': 58}, Fitness (Accuracy): 0.10000000149011612\n",
            "Chromosome: {'filters_1': 32, 'filters_2': 64, 'filters_3': 256, 'kernel_size': (5, 5), 'activation_1': 'relu', 'activation_2': 'relu', 'dropout_1': 0.2, 'dropout_2': 0.3, 'optimizer': 'Adam', 'epochs': 60}, Fitness (Accuracy): 0.7014999985694885\n",
            "Chromosome: {'filters_1': 64, 'filters_2': 128, 'filters_3': 128, 'kernel_size': (3, 3), 'activation_1': 'relu', 'activation_2': 'tanh', 'dropout_1': 0.3, 'dropout_2': 0.3, 'optimizer': 'SGD', 'epochs': 71}, Fitness (Accuracy): 0.730400025844574\n",
            "Chromosome: {'filters_1': 64, 'filters_2': 64, 'filters_3': 128, 'kernel_size': (3, 3), 'activation_1': 'sigmoid', 'activation_2': 'tanh', 'dropout_1': 0.2, 'dropout_2': 0.4, 'optimizer': 'SGD', 'epochs': 51}, Fitness (Accuracy): 0.5228999853134155\n",
            "Chromosome: {'filters_1': 32, 'filters_2': 128, 'filters_3': 512, 'kernel_size': (5, 5), 'activation_1': 'sigmoid', 'activation_2': 'relu', 'dropout_1': 0.3, 'dropout_2': 0.2, 'optimizer': 'RMSprop', 'epochs': 52}, Fitness (Accuracy): 0.10000000149011612\n",
            "End of Generation 1, Max Fitness (Accuracy): 0.730400025844574\n"
          ]
        }
      ]
    }
  ]
}